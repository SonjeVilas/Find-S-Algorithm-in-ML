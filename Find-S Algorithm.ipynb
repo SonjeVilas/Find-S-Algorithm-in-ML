{
 "cells": [
  {
   "cell_type": "markdown",
   "id": "6918555f",
   "metadata": {},
   "source": [
    "## Implement and demonstrate the FIND-S algorithm for finding the most specific hypothesis based on a given set of training data samples. Read the training data from a .CSV file   "
   ]
  },
  {
   "cell_type": "code",
   "execution_count": 1,
   "id": "d1658324",
   "metadata": {},
   "outputs": [],
   "source": [
    "import pandas as pd\n",
    "import numpy as np"
   ]
  },
  {
   "cell_type": "code",
   "execution_count": 2,
   "id": "f8e668f8",
   "metadata": {},
   "outputs": [],
   "source": [
    "data = pd.read_csv('data1.csv')"
   ]
  },
  {
   "cell_type": "code",
   "execution_count": 3,
   "id": "d4cbd2fa",
   "metadata": {},
   "outputs": [
    {
     "data": {
      "text/html": [
       "<div>\n",
       "<style scoped>\n",
       "    .dataframe tbody tr th:only-of-type {\n",
       "        vertical-align: middle;\n",
       "    }\n",
       "\n",
       "    .dataframe tbody tr th {\n",
       "        vertical-align: top;\n",
       "    }\n",
       "\n",
       "    .dataframe thead th {\n",
       "        text-align: right;\n",
       "    }\n",
       "</style>\n",
       "<table border=\"1\" class=\"dataframe\">\n",
       "  <thead>\n",
       "    <tr style=\"text-align: right;\">\n",
       "      <th></th>\n",
       "      <th>Colour</th>\n",
       "      <th>Toughness</th>\n",
       "      <th>Fungus</th>\n",
       "      <th>Appearance</th>\n",
       "      <th>Poisonous</th>\n",
       "    </tr>\n",
       "  </thead>\n",
       "  <tbody>\n",
       "    <tr>\n",
       "      <th>0</th>\n",
       "      <td>green</td>\n",
       "      <td>hard</td>\n",
       "      <td>No</td>\n",
       "      <td>wrinkeld</td>\n",
       "      <td>Yes</td>\n",
       "    </tr>\n",
       "    <tr>\n",
       "      <th>1</th>\n",
       "      <td>green</td>\n",
       "      <td>hard</td>\n",
       "      <td>Yes</td>\n",
       "      <td>smooth</td>\n",
       "      <td>No</td>\n",
       "    </tr>\n",
       "    <tr>\n",
       "      <th>2</th>\n",
       "      <td>brown</td>\n",
       "      <td>soft</td>\n",
       "      <td>No</td>\n",
       "      <td>wrinkeld</td>\n",
       "      <td>No</td>\n",
       "    </tr>\n",
       "    <tr>\n",
       "      <th>3</th>\n",
       "      <td>orange</td>\n",
       "      <td>hard</td>\n",
       "      <td>No</td>\n",
       "      <td>wrinkeld</td>\n",
       "      <td>Yes</td>\n",
       "    </tr>\n",
       "    <tr>\n",
       "      <th>4</th>\n",
       "      <td>green</td>\n",
       "      <td>soft</td>\n",
       "      <td>Yes</td>\n",
       "      <td>smooth</td>\n",
       "      <td>Yes</td>\n",
       "    </tr>\n",
       "    <tr>\n",
       "      <th>5</th>\n",
       "      <td>green</td>\n",
       "      <td>hard</td>\n",
       "      <td>Yes</td>\n",
       "      <td>wrinkeld</td>\n",
       "      <td>Yes</td>\n",
       "    </tr>\n",
       "    <tr>\n",
       "      <th>6</th>\n",
       "      <td>orange</td>\n",
       "      <td>hard</td>\n",
       "      <td>No</td>\n",
       "      <td>wrinkled</td>\n",
       "      <td>Yes</td>\n",
       "    </tr>\n",
       "  </tbody>\n",
       "</table>\n",
       "</div>"
      ],
      "text/plain": [
       "   Colour Toughness Fungus Appearance Poisonous\n",
       "0   green      hard     No   wrinkeld       Yes\n",
       "1   green      hard    Yes     smooth        No\n",
       "2   brown      soft     No   wrinkeld        No\n",
       "3  orange      hard     No   wrinkeld       Yes\n",
       "4   green      soft    Yes     smooth       Yes\n",
       "5   green      hard    Yes   wrinkeld       Yes\n",
       "6  orange      hard     No   wrinkled       Yes"
      ]
     },
     "execution_count": 3,
     "metadata": {},
     "output_type": "execute_result"
    }
   ],
   "source": [
    "data"
   ]
  },
  {
   "cell_type": "code",
   "execution_count": 4,
   "id": "e51b74c5",
   "metadata": {},
   "outputs": [
    {
     "name": "stdout",
     "output_type": "stream",
     "text": [
      " \n",
      " The most general hypothesis : ['?','?','?','?','?','?']\n",
      "\n",
      "\n",
      " The most specific hypothesis : ['0','0','0','0','0','0']\n",
      "\n"
     ]
    }
   ],
   "source": [
    "print (\" \\n The most general hypothesis : ['?','?','?','?','?','?']\\n\")\n",
    "print (\"\\n The most specific hypothesis : ['0','0','0','0','0','0']\\n\")"
   ]
  },
  {
   "cell_type": "code",
   "execution_count": 5,
   "id": "2e911e66",
   "metadata": {},
   "outputs": [],
   "source": [
    "concept = np.array(data)[:,:-1]"
   ]
  },
  {
   "cell_type": "code",
   "execution_count": 6,
   "id": "e8563413",
   "metadata": {},
   "outputs": [
    {
     "data": {
      "text/plain": [
       "array([['green', 'hard', 'No', 'wrinkeld'],\n",
       "       ['green', 'hard', 'Yes', 'smooth'],\n",
       "       ['brown', 'soft', 'No', 'wrinkeld'],\n",
       "       ['orange', 'hard', 'No', 'wrinkeld'],\n",
       "       ['green', 'soft', 'Yes', 'smooth'],\n",
       "       ['green', 'hard', 'Yes', 'wrinkeld'],\n",
       "       ['orange', 'hard', 'No', 'wrinkled']], dtype=object)"
      ]
     },
     "execution_count": 6,
     "metadata": {},
     "output_type": "execute_result"
    }
   ],
   "source": [
    "concept"
   ]
  },
  {
   "cell_type": "code",
   "execution_count": 7,
   "id": "0189d1cf",
   "metadata": {},
   "outputs": [],
   "source": [
    "target = np.array(data)[:,-1]"
   ]
  },
  {
   "cell_type": "code",
   "execution_count": 8,
   "id": "2816cdce",
   "metadata": {},
   "outputs": [
    {
     "data": {
      "text/plain": [
       "array(['Yes', 'No', 'No', 'Yes', 'Yes', 'Yes', 'Yes'], dtype=object)"
      ]
     },
     "execution_count": 8,
     "metadata": {},
     "output_type": "execute_result"
    }
   ],
   "source": [
    "target"
   ]
  },
  {
   "cell_type": "code",
   "execution_count": 9,
   "id": "78d8ae8b",
   "metadata": {},
   "outputs": [],
   "source": [
    "def train(concept,target):\n",
    "    for i,val in enumerate(target):\n",
    "        if val.lower() =='yes':\n",
    "            specific = concept[i].copy()\n",
    "            break\n",
    "            \n",
    "    for i,val in enumerate(concept):\n",
    "        if target[i].lower()=='yes':\n",
    "            for x in range(len(specific)):\n",
    "                if val[x] != specific[x]:\n",
    "                    specific[x] = '?'\n",
    "                else:\n",
    "                    pass\n",
    "    return specific"
   ]
  },
  {
   "cell_type": "code",
   "execution_count": 12,
   "id": "4034b707",
   "metadata": {
    "scrolled": true
   },
   "outputs": [
    {
     "name": "stdout",
     "output_type": "stream",
     "text": [
      "\n",
      " The Maximally Specific Hypothesis for a given Training Examples :\n",
      "\n",
      "['?' '?' '?' '?']\n"
     ]
    }
   ],
   "source": [
    "print(\"\\n The Maximally Specific Hypothesis for a given Training Examples :\\n\")\n",
    "print(train(concept,target))"
   ]
  },
  {
   "cell_type": "code",
   "execution_count": null,
   "id": "0b5b1187",
   "metadata": {},
   "outputs": [],
   "source": []
  }
 ],
 "metadata": {
  "kernelspec": {
   "display_name": "Python 3 (ipykernel)",
   "language": "python",
   "name": "python3"
  },
  "language_info": {
   "codemirror_mode": {
    "name": "ipython",
    "version": 3
   },
   "file_extension": ".py",
   "mimetype": "text/x-python",
   "name": "python",
   "nbconvert_exporter": "python",
   "pygments_lexer": "ipython3",
   "version": "3.10.4"
  }
 },
 "nbformat": 4,
 "nbformat_minor": 5
}
